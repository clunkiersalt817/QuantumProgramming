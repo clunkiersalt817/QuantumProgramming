{
 "cells": [
  {
   "cell_type": "code",
   "execution_count": 2,
   "metadata": {},
   "outputs": [],
   "source": [
    "from qiskit import *\n",
    "from qiskit.providers.aer import AerSimulator\n",
    "sim = AerSimulator()"
   ]
  },
  {
   "cell_type": "code",
   "execution_count": 42,
   "metadata": {},
   "outputs": [
    {
     "data": {
      "text/plain": [
       "<qiskit.circuit.instructionset.InstructionSet at 0x2767a06a040>"
      ]
     },
     "execution_count": 42,
     "metadata": {},
     "output_type": "execute_result"
    }
   ],
   "source": [
    "qc=QuantumCircuit(6,1)\n",
    "#Y=A'B+AB\n",
    "qc.x(1) #we flipped the ground state of qubit q_1 to 1 \n",
    "qc.x(2) #i.e., if we pass 0 to q_2 then q_0 will be selected as the output and \n",
    "        #if we pass 1 to q_2 then q_1 will we selected as the output to q_5\n",
    "qc.ccx(0,2,3)\n",
    "qc.x(2)\n",
    "qc.ccx(1,2,4)\n",
    "qc.x(3)\n",
    "qc.x(4)\n",
    "qc.ccx(3,4,5)"
   ]
  },
  {
   "cell_type": "code",
   "execution_count": 43,
   "metadata": {},
   "outputs": [
    {
     "data": {
      "text/html": [
       "<pre style=\"word-wrap: normal;white-space: pre;background: #fff0;line-height: 1.1;font-family: &quot;Courier New&quot;,Courier,monospace\">                                      \n",
       "q_0: ───────■─────────────────────────\n",
       "     ┌───┐  │                         \n",
       "q_1: ┤ X ├──┼─────────■───────────────\n",
       "     ├───┤  │  ┌───┐  │               \n",
       "q_2: ┤ X ├──■──┤ X ├──■───────────────\n",
       "     └───┘┌─┴─┐├───┤  │               \n",
       "q_3: ─────┤ X ├┤ X ├──┼─────────■─────\n",
       "          └───┘└───┘┌─┴─┐┌───┐  │     \n",
       "q_4: ───────────────┤ X ├┤ X ├──■─────\n",
       "                    └───┘└───┘┌─┴─┐┌─┐\n",
       "q_5: ─────────────────────────┤ X ├┤M├\n",
       "                              └───┘└╥┘\n",
       "c: 1/═══════════════════════════════╩═\n",
       "                                    0 </pre>"
      ],
      "text/plain": [
       "                                      \n",
       "q_0: ───────■─────────────────────────\n",
       "     ┌───┐  │                         \n",
       "q_1: ┤ X ├──┼─────────■───────────────\n",
       "     ├───┤  │  ┌───┐  │               \n",
       "q_2: ┤ X ├──■──┤ X ├──■───────────────\n",
       "     └───┘┌─┴─┐├───┤  │               \n",
       "q_3: ─────┤ X ├┤ X ├──┼─────────■─────\n",
       "          └───┘└───┘┌─┴─┐┌───┐  │     \n",
       "q_4: ───────────────┤ X ├┤ X ├──■─────\n",
       "                    └───┘└───┘┌─┴─┐┌─┐\n",
       "q_5: ─────────────────────────┤ X ├┤M├\n",
       "                              └───┘└╥┘\n",
       "c: 1/═══════════════════════════════╩═\n",
       "                                    0 "
      ]
     },
     "execution_count": 43,
     "metadata": {},
     "output_type": "execute_result"
    }
   ],
   "source": [
    "qc.measure(5,0)\n",
    "qc.draw()"
   ]
  },
  {
   "cell_type": "code",
   "execution_count": 44,
   "metadata": {},
   "outputs": [
    {
     "data": {
      "text/plain": [
       "{'1': 1024}"
      ]
     },
     "execution_count": 44,
     "metadata": {},
     "output_type": "execute_result"
    }
   ],
   "source": [
    "from qiskit.providers.aer import AerSimulator\n",
    "sim = AerSimulator()\n",
    "job=sim.run(qc)\n",
    "result=job.result()\n",
    "result.get_counts()"
   ]
  },
  {
   "cell_type": "code",
   "execution_count": null,
   "metadata": {},
   "outputs": [],
   "source": []
  }
 ],
 "metadata": {
  "kernelspec": {
   "display_name": "Python 3.9.12 ('base')",
   "language": "python",
   "name": "python3"
  },
  "language_info": {
   "codemirror_mode": {
    "name": "ipython",
    "version": 3
   },
   "file_extension": ".py",
   "mimetype": "text/x-python",
   "name": "python",
   "nbconvert_exporter": "python",
   "pygments_lexer": "ipython3",
   "version": "3.9.12"
  },
  "orig_nbformat": 4,
  "vscode": {
   "interpreter": {
    "hash": "88279d2366fe020547cde40dd65aa0e3aa662a6ec1f3ca12d88834876c85e1a6"
   }
  }
 },
 "nbformat": 4,
 "nbformat_minor": 2
}
