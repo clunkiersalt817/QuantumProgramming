{
 "cells": [
  {
   "cell_type": "code",
   "execution_count": 1,
   "metadata": {},
   "outputs": [
    {
     "data": {
      "text/plain": [
       "<qiskit.circuit.instructionset.InstructionSet at 0x1bab4ea2370>"
      ]
     },
     "execution_count": 1,
     "metadata": {},
     "output_type": "execute_result"
    }
   ],
   "source": [
    "from qiskit import *\n",
    "qfa=QuantumCircuit(5,4)\n",
    "qfa.x([0,1,2])\n",
    "qfa.cx([0,1,2],[3,3,3])\n",
    "qfa.ccx(0,2,4)\n",
    "qfa.ccx(0,1,4)\n",
    "qfa.ccx(1,2,4)"
   ]
  },
  {
   "cell_type": "code",
   "execution_count": 2,
   "metadata": {},
   "outputs": [
    {
     "data": {
      "text/html": [
       "<pre style=\"word-wrap: normal;white-space: pre;background: #fff0;line-height: 1.1;font-family: &quot;Courier New&quot;,Courier,monospace\">     ┌───┐                                    \n",
       "q_0: ┤ X ├──■──────────────■───────■──────────\n",
       "     ├───┤  │              │       │          \n",
       "q_1: ┤ X ├──┼────■─────────┼───────■────■─────\n",
       "     ├───┤  │    │         │       │    │     \n",
       "q_2: ┤ X ├──┼────┼────■────■───────┼────■─────\n",
       "     └───┘┌─┴─┐┌─┴─┐┌─┴─┐  │  ┌─┐  │    │     \n",
       "q_3: ─────┤ X ├┤ X ├┤ X ├──┼──┤M├──┼────┼─────\n",
       "          └───┘└───┘└───┘┌─┴─┐└╥┘┌─┴─┐┌─┴─┐┌─┐\n",
       "q_4: ────────────────────┤ X ├─╫─┤ X ├┤ X ├┤M├\n",
       "                         └───┘ ║ └───┘└───┘└╥┘\n",
       "c: 4/══════════════════════════╩════════════╩═\n",
       "                               0            1 </pre>"
      ],
      "text/plain": [
       "     ┌───┐                                    \n",
       "q_0: ┤ X ├──■──────────────■───────■──────────\n",
       "     ├───┤  │              │       │          \n",
       "q_1: ┤ X ├──┼────■─────────┼───────■────■─────\n",
       "     ├───┤  │    │         │       │    │     \n",
       "q_2: ┤ X ├──┼────┼────■────■───────┼────■─────\n",
       "     └───┘┌─┴─┐┌─┴─┐┌─┴─┐  │  ┌─┐  │    │     \n",
       "q_3: ─────┤ X ├┤ X ├┤ X ├──┼──┤M├──┼────┼─────\n",
       "          └───┘└───┘└───┘┌─┴─┐└╥┘┌─┴─┐┌─┴─┐┌─┐\n",
       "q_4: ────────────────────┤ X ├─╫─┤ X ├┤ X ├┤M├\n",
       "                         └───┘ ║ └───┘└───┘└╥┘\n",
       "c: 4/══════════════════════════╩════════════╩═\n",
       "                               0            1 "
      ]
     },
     "execution_count": 2,
     "metadata": {},
     "output_type": "execute_result"
    }
   ],
   "source": [
    "qfa.measure([3,4],[0,1])\n",
    "qfa.draw()"
   ]
  },
  {
   "cell_type": "code",
   "execution_count": 3,
   "metadata": {},
   "outputs": [
    {
     "data": {
      "text/plain": [
       "{'0011': 1024}"
      ]
     },
     "execution_count": 3,
     "metadata": {},
     "output_type": "execute_result"
    }
   ],
   "source": [
    "from qiskit.providers.aer import AerSimulator\n",
    "sim = AerSimulator()\n",
    "job=sim.run(qfa)\n",
    "result=job.result()\n",
    "result.get_counts()"
   ]
  }
 ],
 "metadata": {
  "kernelspec": {
   "display_name": "Python 3.9.12 ('base')",
   "language": "python",
   "name": "python3"
  },
  "language_info": {
   "codemirror_mode": {
    "name": "ipython",
    "version": 3
   },
   "file_extension": ".py",
   "mimetype": "text/x-python",
   "name": "python",
   "nbconvert_exporter": "python",
   "pygments_lexer": "ipython3",
   "version": "3.9.12"
  },
  "orig_nbformat": 4,
  "vscode": {
   "interpreter": {
    "hash": "88279d2366fe020547cde40dd65aa0e3aa662a6ec1f3ca12d88834876c85e1a6"
   }
  }
 },
 "nbformat": 4,
 "nbformat_minor": 2
}
