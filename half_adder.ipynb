{
 "cells": [
  {
   "cell_type": "code",
   "execution_count": 3,
   "metadata": {},
   "outputs": [
    {
     "data": {
      "text/plain": [
       "<qiskit.circuit.instructionset.InstructionSet at 0x25bae82ac40>"
      ]
     },
     "execution_count": 3,
     "metadata": {},
     "output_type": "execute_result"
    }
   ],
   "source": [
    "#creating a half adder quantum circuit\n",
    "#using CNOT(Controlled NOT in Quantum or XOR)\n",
    "#create circuit with 4 qubits and 2 classical bits\n",
    "from qiskit import *\n",
    "from qiskit.providers.aer import AerSimulator\n",
    "sim = AerSimulator()\n",
    "qc=QuantumCircuit(4,2)\n",
    "#since a qubit is initialized to 0 in its start state we flip it using .x() which is a quantum NOT gate\n",
    "qc.x([0,1])\n",
    "qc.cx(0,2)\n",
    "qc.cx(1,2)\n",
    "qc.ccx(0,1,3)\n",
    "qc.measure([2,3],[0,1])"
   ]
  },
  {
   "cell_type": "code",
   "execution_count": 5,
   "metadata": {},
   "outputs": [
    {
     "data": {
      "text/html": [
       "<pre style=\"word-wrap: normal;white-space: pre;background: #fff0;line-height: 1.1;font-family: &quot;Courier New&quot;,Courier,monospace\">     ┌───┐                     \n",
       "q_0: ┤ X ├──■─────────■────────\n",
       "     ├───┤  │         │        \n",
       "q_1: ┤ X ├──┼────■────■────────\n",
       "     └───┘┌─┴─┐┌─┴─┐  │  ┌─┐   \n",
       "q_2: ─────┤ X ├┤ X ├──┼──┤M├───\n",
       "          └───┘└───┘┌─┴─┐└╥┘┌─┐\n",
       "q_3: ───────────────┤ X ├─╫─┤M├\n",
       "                    └───┘ ║ └╥┘\n",
       "c: 2/═════════════════════╩══╩═\n",
       "                          0  1 </pre>"
      ],
      "text/plain": [
       "     ┌───┐                     \n",
       "q_0: ┤ X ├──■─────────■────────\n",
       "     ├───┤  │         │        \n",
       "q_1: ┤ X ├──┼────■────■────────\n",
       "     └───┘┌─┴─┐┌─┴─┐  │  ┌─┐   \n",
       "q_2: ─────┤ X ├┤ X ├──┼──┤M├───\n",
       "          └───┘└───┘┌─┴─┐└╥┘┌─┐\n",
       "q_3: ───────────────┤ X ├─╫─┤M├\n",
       "                    └───┘ ║ └╥┘\n",
       "c: 2/═════════════════════╩══╩═\n",
       "                          0  1 "
      ]
     },
     "execution_count": 5,
     "metadata": {},
     "output_type": "execute_result"
    }
   ],
   "source": [
    "qc.draw()"
   ]
  },
  {
   "cell_type": "code",
   "execution_count": 6,
   "metadata": {},
   "outputs": [
    {
     "data": {
      "text/plain": [
       "{'10': 1024}"
      ]
     },
     "execution_count": 6,
     "metadata": {},
     "output_type": "execute_result"
    }
   ],
   "source": [
    "job=sim.run(qc)\n",
    "result=job.result()\n",
    "result.get_counts()"
   ]
  }
 ],
 "metadata": {
  "kernelspec": {
   "display_name": "Python 3.9.12 ('base')",
   "language": "python",
   "name": "python3"
  },
  "language_info": {
   "codemirror_mode": {
    "name": "ipython",
    "version": 3
   },
   "file_extension": ".py",
   "mimetype": "text/x-python",
   "name": "python",
   "nbconvert_exporter": "python",
   "pygments_lexer": "ipython3",
   "version": "3.9.12"
  },
  "orig_nbformat": 4,
  "vscode": {
   "interpreter": {
    "hash": "88279d2366fe020547cde40dd65aa0e3aa662a6ec1f3ca12d88834876c85e1a6"
   }
  }
 },
 "nbformat": 4,
 "nbformat_minor": 2
}
