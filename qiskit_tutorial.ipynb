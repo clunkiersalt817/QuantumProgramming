{
 "cells": [
  {
   "cell_type": "code",
   "execution_count": 3,
   "id": "fb53dbd2",
   "metadata": {},
   "outputs": [],
   "source": [
    "import qiskit"
   ]
  },
  {
   "cell_type": "code",
   "execution_count": 4,
   "id": "5fb1c825",
   "metadata": {},
   "outputs": [],
   "source": [
    "from qiskit import IBMQ"
   ]
  },
  {
   "cell_type": "code",
   "execution_count": 5,
   "id": "e79f508b",
   "metadata": {},
   "outputs": [
    {
     "name": "stderr",
     "output_type": "stream",
     "text": [
      "configrc.store_credentials:WARNING:2022-10-04 02:14:19,077: Credentials already present. Set overwrite=True to overwrite.\n"
     ]
    }
   ],
   "source": [
    "IBMQ.save_account('d6cdbcf4754fdfbc56c485ed120b8e9d6e204ffda78c51413e3b0732db7f07411432b1fa3a66176757e4449d4033e80d84da09331fbedac062cc055ec47e2329')"
   ]
  },
  {
   "cell_type": "code",
   "execution_count": 6,
   "id": "9dd96a82",
   "metadata": {},
   "outputs": [
    {
     "data": {
      "text/plain": [
       "<AccountProvider for IBMQ(hub='ibm-q', group='open', project='main')>"
      ]
     },
     "execution_count": 6,
     "metadata": {},
     "output_type": "execute_result"
    }
   ],
   "source": [
    "IBMQ.load_account()"
   ]
  },
  {
   "cell_type": "code",
   "execution_count": 4,
   "id": "08500385",
   "metadata": {},
   "outputs": [],
   "source": [
    "from qiskit import *"
   ]
  },
  {
   "cell_type": "code",
   "execution_count": 8,
   "id": "0930024e",
   "metadata": {},
   "outputs": [],
   "source": [
    "qr = QuantumRegister(2)"
   ]
  },
  {
   "cell_type": "code",
   "execution_count": 9,
   "id": "abf2ccfc",
   "metadata": {},
   "outputs": [],
   "source": [
    "cr = ClassicalRegister(2)"
   ]
  },
  {
   "cell_type": "code",
   "execution_count": 10,
   "id": "0efaadb3",
   "metadata": {},
   "outputs": [],
   "source": [
    "circuit = QuantumCircuit(qr,cr)"
   ]
  },
  {
   "cell_type": "code",
   "execution_count": 11,
   "id": "ea88782b",
   "metadata": {},
   "outputs": [],
   "source": [
    "%matplotlib inline"
   ]
  },
  {
   "cell_type": "code",
   "execution_count": 10,
   "id": "64f5b9c8",
   "metadata": {},
   "outputs": [
    {
     "data": {
      "text/html": [
       "<pre style=\"word-wrap: normal;white-space: pre;background: #fff0;line-height: 1.1;font-family: &quot;Courier New&quot;,Courier,monospace\">      \n",
       "q0_0: \n",
       "      \n",
       "q0_1: \n",
       "      \n",
       "c0: 2/\n",
       "      </pre>"
      ],
      "text/plain": [
       "      \n",
       "q0_0: \n",
       "      \n",
       "q0_1: \n",
       "      \n",
       "c0: 2/\n",
       "      "
      ]
     },
     "execution_count": 10,
     "metadata": {},
     "output_type": "execute_result"
    }
   ],
   "source": [
    "circuit.draw()"
   ]
  },
  {
   "cell_type": "code",
   "execution_count": 11,
   "id": "a9d07189",
   "metadata": {},
   "outputs": [],
   "source": [
    "qc_output=QuantumCircuit(8)"
   ]
  },
  {
   "cell_type": "code",
   "execution_count": 12,
   "id": "25a0fbc6",
   "metadata": {},
   "outputs": [],
   "source": [
    "qc_output.measure_all()"
   ]
  },
  {
   "cell_type": "code",
   "execution_count": 15,
   "id": "67333acb",
   "metadata": {},
   "outputs": [
    {
     "data": {
      "text/html": [
       "<pre style=\"word-wrap: normal;white-space: pre;background: #fff0;line-height: 1.1;font-family: &quot;Courier New&quot;,Courier,monospace\">           ░ ┌─┐                     \n",
       "  q_0: |0>─░─┤M├─────────────────────\n",
       "           ░ └╥┘┌─┐                  \n",
       "  q_1: |0>─░──╫─┤M├──────────────────\n",
       "           ░  ║ └╥┘┌─┐               \n",
       "  q_2: |0>─░──╫──╫─┤M├───────────────\n",
       "           ░  ║  ║ └╥┘┌─┐            \n",
       "  q_3: |0>─░──╫──╫──╫─┤M├────────────\n",
       "           ░  ║  ║  ║ └╥┘┌─┐         \n",
       "  q_4: |0>─░──╫──╫──╫──╫─┤M├─────────\n",
       "           ░  ║  ║  ║  ║ └╥┘┌─┐      \n",
       "  q_5: |0>─░──╫──╫──╫──╫──╫─┤M├──────\n",
       "           ░  ║  ║  ║  ║  ║ └╥┘┌─┐   \n",
       "  q_6: |0>─░──╫──╫──╫──╫──╫──╫─┤M├───\n",
       "           ░  ║  ║  ║  ║  ║  ║ └╥┘┌─┐\n",
       "  q_7: |0>─░──╫──╫──╫──╫──╫──╫──╫─┤M├\n",
       "           ░  ║  ║  ║  ║  ║  ║  ║ └╥┘\n",
       "meas: 0 8/════╩══╩══╩══╩══╩══╩══╩══╩═\n",
       "              0  1  2  3  4  5  6  7 </pre>"
      ],
      "text/plain": [
       "           ░ ┌─┐                     \n",
       "  q_0: |0>─░─┤M├─────────────────────\n",
       "           ░ └╥┘┌─┐                  \n",
       "  q_1: |0>─░──╫─┤M├──────────────────\n",
       "           ░  ║ └╥┘┌─┐               \n",
       "  q_2: |0>─░──╫──╫─┤M├───────────────\n",
       "           ░  ║  ║ └╥┘┌─┐            \n",
       "  q_3: |0>─░──╫──╫──╫─┤M├────────────\n",
       "           ░  ║  ║  ║ └╥┘┌─┐         \n",
       "  q_4: |0>─░──╫──╫──╫──╫─┤M├─────────\n",
       "           ░  ║  ║  ║  ║ └╥┘┌─┐      \n",
       "  q_5: |0>─░──╫──╫──╫──╫──╫─┤M├──────\n",
       "           ░  ║  ║  ║  ║  ║ └╥┘┌─┐   \n",
       "  q_6: |0>─░──╫──╫──╫──╫──╫──╫─┤M├───\n",
       "           ░  ║  ║  ║  ║  ║  ║ └╥┘┌─┐\n",
       "  q_7: |0>─░──╫──╫──╫──╫──╫──╫──╫─┤M├\n",
       "           ░  ║  ║  ║  ║  ║  ║  ║ └╥┘\n",
       "meas: 0 8/════╩══╩══╩══╩══╩══╩══╩══╩═\n",
       "              0  1  2  3  4  5  6  7 "
      ]
     },
     "execution_count": 15,
     "metadata": {},
     "output_type": "execute_result"
    }
   ],
   "source": [
    "qc_output.draw(initial_state=True)"
   ]
  },
  {
   "cell_type": "code",
   "execution_count": 16,
   "id": "c187f83e",
   "metadata": {},
   "outputs": [
    {
     "data": {
      "text/html": [
       "<pre style=\"word-wrap: normal;white-space: pre;background: #fff0;line-height: 1.1;font-family: &quot;Courier New&quot;,Courier,monospace\">         ░ ┌─┐                     \n",
       "   q_0: ─░─┤M├─────────────────────\n",
       "         ░ └╥┘┌─┐                  \n",
       "   q_1: ─░──╫─┤M├──────────────────\n",
       "         ░  ║ └╥┘┌─┐               \n",
       "   q_2: ─░──╫──╫─┤M├───────────────\n",
       "         ░  ║  ║ └╥┘┌─┐            \n",
       "   q_3: ─░──╫──╫──╫─┤M├────────────\n",
       "         ░  ║  ║  ║ └╥┘┌─┐         \n",
       "   q_4: ─░──╫──╫──╫──╫─┤M├─────────\n",
       "         ░  ║  ║  ║  ║ └╥┘┌─┐      \n",
       "   q_5: ─░──╫──╫──╫──╫──╫─┤M├──────\n",
       "         ░  ║  ║  ║  ║  ║ └╥┘┌─┐   \n",
       "   q_6: ─░──╫──╫──╫──╫──╫──╫─┤M├───\n",
       "         ░  ║  ║  ║  ║  ║  ║ └╥┘┌─┐\n",
       "   q_7: ─░──╫──╫──╫──╫──╫──╫──╫─┤M├\n",
       "         ░  ║  ║  ║  ║  ║  ║  ║ └╥┘\n",
       "meas: 8/════╩══╩══╩══╩══╩══╩══╩══╩═\n",
       "            0  1  2  3  4  5  6  7 </pre>"
      ],
      "text/plain": [
       "         ░ ┌─┐                     \n",
       "   q_0: ─░─┤M├─────────────────────\n",
       "         ░ └╥┘┌─┐                  \n",
       "   q_1: ─░──╫─┤M├──────────────────\n",
       "         ░  ║ └╥┘┌─┐               \n",
       "   q_2: ─░──╫──╫─┤M├───────────────\n",
       "         ░  ║  ║ └╥┘┌─┐            \n",
       "   q_3: ─░──╫──╫──╫─┤M├────────────\n",
       "         ░  ║  ║  ║ └╥┘┌─┐         \n",
       "   q_4: ─░──╫──╫──╫──╫─┤M├─────────\n",
       "         ░  ║  ║  ║  ║ └╥┘┌─┐      \n",
       "   q_5: ─░──╫──╫──╫──╫──╫─┤M├──────\n",
       "         ░  ║  ║  ║  ║  ║ └╥┘┌─┐   \n",
       "   q_6: ─░──╫──╫──╫──╫──╫──╫─┤M├───\n",
       "         ░  ║  ║  ║  ║  ║  ║ └╥┘┌─┐\n",
       "   q_7: ─░──╫──╫──╫──╫──╫──╫──╫─┤M├\n",
       "         ░  ║  ║  ║  ║  ║  ║  ║ └╥┘\n",
       "meas: 8/════╩══╩══╩══╩══╩══╩══╩══╩═\n",
       "            0  1  2  3  4  5  6  7 "
      ]
     },
     "execution_count": 16,
     "metadata": {},
     "output_type": "execute_result"
    }
   ],
   "source": [
    "qc_output.draw()"
   ]
  },
  {
   "cell_type": "code",
   "execution_count": 17,
   "id": "63609ddd",
   "metadata": {},
   "outputs": [
    {
     "data": {
      "text/html": [
       "<pre style=\"word-wrap: normal;white-space: pre;background: #fff0;line-height: 1.1;font-family: &quot;Courier New&quot;,Courier,monospace\">         ░ ┌─┐                     \n",
       "   q_0: ─░─┤M├─────────────────────\n",
       "         ░ └╥┘┌─┐                  \n",
       "   q_1: ─░──╫─┤M├──────────────────\n",
       "         ░  ║ └╥┘┌─┐               \n",
       "   q_2: ─░──╫──╫─┤M├───────────────\n",
       "         ░  ║  ║ └╥┘┌─┐            \n",
       "   q_3: ─░──╫──╫──╫─┤M├────────────\n",
       "         ░  ║  ║  ║ └╥┘┌─┐         \n",
       "   q_4: ─░──╫──╫──╫──╫─┤M├─────────\n",
       "         ░  ║  ║  ║  ║ └╥┘┌─┐      \n",
       "   q_5: ─░──╫──╫──╫──╫──╫─┤M├──────\n",
       "         ░  ║  ║  ║  ║  ║ └╥┘┌─┐   \n",
       "   q_6: ─░──╫──╫──╫──╫──╫──╫─┤M├───\n",
       "         ░  ║  ║  ║  ║  ║  ║ └╥┘┌─┐\n",
       "   q_7: ─░──╫──╫──╫──╫──╫──╫──╫─┤M├\n",
       "         ░  ║  ║  ║  ║  ║  ║  ║ └╥┘\n",
       "meas: 8/════╩══╩══╩══╩══╩══╩══╩══╩═\n",
       "            0  1  2  3  4  5  6  7 </pre>"
      ],
      "text/plain": [
       "         ░ ┌─┐                     \n",
       "   q_0: ─░─┤M├─────────────────────\n",
       "         ░ └╥┘┌─┐                  \n",
       "   q_1: ─░──╫─┤M├──────────────────\n",
       "         ░  ║ └╥┘┌─┐               \n",
       "   q_2: ─░──╫──╫─┤M├───────────────\n",
       "         ░  ║  ║ └╥┘┌─┐            \n",
       "   q_3: ─░──╫──╫──╫─┤M├────────────\n",
       "         ░  ║  ║  ║ └╥┘┌─┐         \n",
       "   q_4: ─░──╫──╫──╫──╫─┤M├─────────\n",
       "         ░  ║  ║  ║  ║ └╥┘┌─┐      \n",
       "   q_5: ─░──╫──╫──╫──╫──╫─┤M├──────\n",
       "         ░  ║  ║  ║  ║  ║ └╥┘┌─┐   \n",
       "   q_6: ─░──╫──╫──╫──╫──╫──╫─┤M├───\n",
       "         ░  ║  ║  ║  ║  ║  ║ └╥┘┌─┐\n",
       "   q_7: ─░──╫──╫──╫──╫──╫──╫──╫─┤M├\n",
       "         ░  ║  ║  ║  ║  ║  ║  ║ └╥┘\n",
       "meas: 8/════╩══╩══╩══╩══╩══╩══╩══╩═\n",
       "            0  1  2  3  4  5  6  7 "
      ]
     },
     "execution_count": 17,
     "metadata": {},
     "output_type": "execute_result"
    }
   ],
   "source": [
    "qc_output.draw(initial_state=False)"
   ]
  },
  {
   "cell_type": "code",
   "execution_count": 20,
   "id": "88c0947f",
   "metadata": {},
   "outputs": [
    {
     "data": {
      "image/png": "[encoded data removed]",
      "text/plain": [
       "<Figure size 504x360 with 1 Axes>"
      ]
     },
     "execution_count": 20,
     "metadata": {},
     "output_type": "execute_result"
    }
   ],
   "source": [
    "sim = Aer.get_backend('aer_simulator') \n",
    "result = sim.run(qc_output).result()\n",
    "counts = result.get_counts()\n",
    "plot_histogram(counts)"
   ]
  },
  {
   "cell_type": "code",
   "execution_count": 19,
   "id": "8fd79462",
   "metadata": {},
   "outputs": [],
   "source": [
    "from qiskit.visualization import plot_histogram"
   ]
  },
  {
   "cell_type": "code",
   "execution_count": 21,
   "id": "cdf9e8fd",
   "metadata": {},
   "outputs": [],
   "source": [
    "qc_encode=QuantumCircuit(8)"
   ]
  },
  {
   "cell_type": "code",
   "execution_count": 22,
   "id": "73b4dc88",
   "metadata": {},
   "outputs": [
    {
     "data": {
      "text/plain": [
       "<qiskit.circuit.instructionset.InstructionSet at 0x2cf5fed8100>"
      ]
     },
     "execution_count": 22,
     "metadata": {},
     "output_type": "execute_result"
    }
   ],
   "source": [
    "qc_encode.x(6)"
   ]
  },
  {
   "cell_type": "code",
   "execution_count": 23,
   "id": "fb71fc79",
   "metadata": {},
   "outputs": [
    {
     "data": {
      "text/html": [
       "<pre style=\"word-wrap: normal;white-space: pre;background: #fff0;line-height: 1.1;font-family: &quot;Courier New&quot;,Courier,monospace\">          \n",
       "q_0: ─────\n",
       "          \n",
       "q_1: ─────\n",
       "          \n",
       "q_2: ─────\n",
       "          \n",
       "q_3: ─────\n",
       "          \n",
       "q_4: ─────\n",
       "          \n",
       "q_5: ─────\n",
       "     ┌───┐\n",
       "q_6: ┤ X ├\n",
       "     └───┘\n",
       "q_7: ─────\n",
       "          </pre>"
      ],
      "text/plain": [
       "          \n",
       "q_0: ─────\n",
       "          \n",
       "q_1: ─────\n",
       "          \n",
       "q_2: ─────\n",
       "          \n",
       "q_3: ─────\n",
       "          \n",
       "q_4: ─────\n",
       "          \n",
       "q_5: ─────\n",
       "     ┌───┐\n",
       "q_6: ┤ X ├\n",
       "     └───┘\n",
       "q_7: ─────\n",
       "          "
      ]
     },
     "execution_count": 23,
     "metadata": {},
     "output_type": "execute_result"
    }
   ],
   "source": [
    "qc_encode.draw()"
   ]
  },
  {
   "cell_type": "code",
   "execution_count": 24,
   "id": "f2c7e3f4",
   "metadata": {},
   "outputs": [
    {
     "data": {
      "text/html": [
       "<pre style=\"word-wrap: normal;white-space: pre;background: #fff0;line-height: 1.1;font-family: &quot;Courier New&quot;,Courier,monospace\">              ░ ┌─┐                     \n",
       "   q_0: ──────░─┤M├─────────────────────\n",
       "              ░ └╥┘┌─┐                  \n",
       "   q_1: ──────░──╫─┤M├──────────────────\n",
       "              ░  ║ └╥┘┌─┐               \n",
       "   q_2: ──────░──╫──╫─┤M├───────────────\n",
       "              ░  ║  ║ └╥┘┌─┐            \n",
       "   q_3: ──────░──╫──╫──╫─┤M├────────────\n",
       "              ░  ║  ║  ║ └╥┘┌─┐         \n",
       "   q_4: ──────░──╫──╫──╫──╫─┤M├─────────\n",
       "              ░  ║  ║  ║  ║ └╥┘┌─┐      \n",
       "   q_5: ──────░──╫──╫──╫──╫──╫─┤M├──────\n",
       "        ┌───┐ ░  ║  ║  ║  ║  ║ └╥┘┌─┐   \n",
       "   q_6: ┤ X ├─░──╫──╫──╫──╫──╫──╫─┤M├───\n",
       "        └───┘ ░  ║  ║  ║  ║  ║  ║ └╥┘┌─┐\n",
       "   q_7: ──────░──╫──╫──╫──╫──╫──╫──╫─┤M├\n",
       "              ░  ║  ║  ║  ║  ║  ║  ║ └╥┘\n",
       "meas: 8/═════════╩══╩══╩══╩══╩══╩══╩══╩═\n",
       "                 0  1  2  3  4  5  6  7 </pre>"
      ],
      "text/plain": [
       "              ░ ┌─┐                     \n",
       "   q_0: ──────░─┤M├─────────────────────\n",
       "              ░ └╥┘┌─┐                  \n",
       "   q_1: ──────░──╫─┤M├──────────────────\n",
       "              ░  ║ └╥┘┌─┐               \n",
       "   q_2: ──────░──╫──╫─┤M├───────────────\n",
       "              ░  ║  ║ └╥┘┌─┐            \n",
       "   q_3: ──────░──╫──╫──╫─┤M├────────────\n",
       "              ░  ║  ║  ║ └╥┘┌─┐         \n",
       "   q_4: ──────░──╫──╫──╫──╫─┤M├─────────\n",
       "              ░  ║  ║  ║  ║ └╥┘┌─┐      \n",
       "   q_5: ──────░──╫──╫──╫──╫──╫─┤M├──────\n",
       "        ┌───┐ ░  ║  ║  ║  ║  ║ └╥┘┌─┐   \n",
       "   q_6: ┤ X ├─░──╫──╫──╫──╫──╫──╫─┤M├───\n",
       "        └───┘ ░  ║  ║  ║  ║  ║  ║ └╥┘┌─┐\n",
       "   q_7: ──────░──╫──╫──╫──╫──╫──╫──╫─┤M├\n",
       "              ░  ║  ║  ║  ║  ║  ║  ║ └╥┘\n",
       "meas: 8/═════════╩══╩══╩══╩══╩══╩══╩══╩═\n",
       "                 0  1  2  3  4  5  6  7 "
      ]
     },
     "execution_count": 24,
     "metadata": {},
     "output_type": "execute_result"
    }
   ],
   "source": [
    "qc_encode.measure_all()\n",
    "qc_encode.draw()"
   ]
  },
  {
   "cell_type": "code",
   "execution_count": 104,
   "id": "531c6394",
   "metadata": {},
   "outputs": [],
   "source": [
    "qc_cnot=QuantumCircuit(2,2)"
   ]
  },
  {
   "cell_type": "code",
   "execution_count": 105,
   "id": "c216ac18",
   "metadata": {},
   "outputs": [
    {
     "data": {
      "text/html": [
       "<pre style=\"word-wrap: normal;white-space: pre;background: #fff0;line-height: 1.1;font-family: &quot;Courier New&quot;,Courier,monospace\">          ┌─┐   \n",
       "q_0: ──■──┤M├───\n",
       "     ┌─┴─┐└╥┘┌─┐\n",
       "q_1: ┤ X ├─╫─┤M├\n",
       "     └───┘ ║ └╥┘\n",
       "c: 2/══════╩══╩═\n",
       "           0  1 </pre>"
      ],
      "text/plain": [
       "          ┌─┐   \n",
       "q_0: ──■──┤M├───\n",
       "     ┌─┴─┐└╥┘┌─┐\n",
       "q_1: ┤ X ├─╫─┤M├\n",
       "     └───┘ ║ └╥┘\n",
       "c: 2/══════╩══╩═\n",
       "           0  1 "
      ]
     },
     "execution_count": 105,
     "metadata": {},
     "output_type": "execute_result"
    }
   ],
   "source": [
    "\n",
    "\n",
    "qc_cnot.cx(0,1)\n",
    "qc_cnot.measure(0,0)\n",
    "qc_cnot.measure(1,1)\n",
    "%matplotlib inline\n",
    "qc_cnot.draw()"
   ]
  },
  {
   "cell_type": "code",
   "execution_count": 12,
   "id": "4ecc4697",
   "metadata": {},
   "outputs": [],
   "source": [
    "qc=QuantumCircuit(2,2)"
   ]
  },
  {
   "cell_type": "code",
   "execution_count": 9,
   "id": "b1fa3a36",
   "metadata": {},
   "outputs": [],
   "source": [
    "qc1=QuantumCircuit(2,2)"
   ]
  },
  {
   "cell_type": "code",
   "execution_count": 10,
   "id": "ad9fd6b8",
   "metadata": {},
   "outputs": [],
   "source": [
    "qc1.x(0)\n",
    "qc1.cx(0,1)\n",
    "qc1.measure_all()\n",
    "#qc1.measure(0,1)"
   ]
  },
  {
   "cell_type": "code",
   "execution_count": 11,
   "id": "2a0b1b11",
   "metadata": {},
   "outputs": [
    {
     "data": {
      "text/html": [
       "<pre style=\"word-wrap: normal;white-space: pre;background: #fff0;line-height: 1.1;font-family: &quot;Courier New&quot;,Courier,monospace\">        ┌───┐      ░ ┌─┐   \n",
       "   q_0: ┤ X ├──■───░─┤M├───\n",
       "        └───┘┌─┴─┐ ░ └╥┘┌─┐\n",
       "   q_1: ─────┤ X ├─░──╫─┤M├\n",
       "             └───┘ ░  ║ └╥┘\n",
       "   c: 2/══════════════╬══╬═\n",
       "                      ║  ║ \n",
       "meas: 2/══════════════╩══╩═\n",
       "                      0  1 </pre>"
      ],
      "text/plain": [
       "        ┌───┐      ░ ┌─┐   \n",
       "   q_0: ┤ X ├──■───░─┤M├───\n",
       "        └───┘┌─┴─┐ ░ └╥┘┌─┐\n",
       "   q_1: ─────┤ X ├─░──╫─┤M├\n",
       "             └───┘ ░  ║ └╥┘\n",
       "   c: 2/══════════════╬══╬═\n",
       "                      ║  ║ \n",
       "meas: 2/══════════════╩══╩═\n",
       "                      0  1 "
      ]
     },
     "execution_count": 11,
     "metadata": {},
     "output_type": "execute_result"
    }
   ],
   "source": [
    "qc1.draw()"
   ]
  },
  {
   "cell_type": "code",
   "execution_count": 35,
   "id": "7c5c6fa4",
   "metadata": {},
   "outputs": [],
   "source": [
    "qc = QuantumCircuit(3, 3) "
   ]
  },
  {
   "cell_type": "code",
   "execution_count": 36,
   "id": "613f44ad",
   "metadata": {},
   "outputs": [],
   "source": [
    "qc.x([0,1])  # Perform X-gates on qubits 0 & 1\n",
    "#qc.measure([0,1,2],[0,1,2]) \n",
    "qc.measure_all()"
   ]
  },
  {
   "cell_type": "code",
   "execution_count": 37,
   "id": "339a2aa5",
   "metadata": {},
   "outputs": [
    {
     "data": {
      "text/html": [
       "<pre style=\"word-wrap: normal;white-space: pre;background: #fff0;line-height: 1.1;font-family: &quot;Courier New&quot;,Courier,monospace\">        ┌───┐ ░ ┌─┐      \n",
       "   q_0: ┤ X ├─░─┤M├──────\n",
       "        ├───┤ ░ └╥┘┌─┐   \n",
       "   q_1: ┤ X ├─░──╫─┤M├───\n",
       "        └───┘ ░  ║ └╥┘┌─┐\n",
       "   q_2: ──────░──╫──╫─┤M├\n",
       "              ░  ║  ║ └╥┘\n",
       "   c: 3/═════════╬══╬══╬═\n",
       "                 ║  ║  ║ \n",
       "meas: 3/═════════╩══╩══╩═\n",
       "                 0  1  2 </pre>"
      ],
      "text/plain": [
       "        ┌───┐ ░ ┌─┐      \n",
       "   q_0: ┤ X ├─░─┤M├──────\n",
       "        ├───┤ ░ └╥┘┌─┐   \n",
       "   q_1: ┤ X ├─░──╫─┤M├───\n",
       "        └───┘ ░  ║ └╥┘┌─┐\n",
       "   q_2: ──────░──╫──╫─┤M├\n",
       "              ░  ║  ║ └╥┘\n",
       "   c: 3/═════════╬══╬══╬═\n",
       "                 ║  ║  ║ \n",
       "meas: 3/═════════╩══╩══╩═\n",
       "                 0  1  2 "
      ]
     },
     "execution_count": 37,
     "metadata": {},
     "output_type": "execute_result"
    }
   ],
   "source": [
    "qc.draw()"
   ]
  },
  {
   "cell_type": "code",
   "execution_count": 39,
   "id": "d6ddb1f6",
   "metadata": {},
   "outputs": [],
   "source": [
    "from qiskit.providers.aer import AerSimulator\n",
    "sim = AerSimulator()"
   ]
  },
  {
   "cell_type": "code",
   "execution_count": 40,
   "id": "4a44b60b",
   "metadata": {},
   "outputs": [
    {
     "data": {
      "text/plain": [
       "{'011 000': 1024}"
      ]
     },
     "execution_count": 40,
     "metadata": {},
     "output_type": "execute_result"
    }
   ],
   "source": [
    "job=sim.run(qc)\n",
    "result=job.result()\n",
    "result.get_counts()"
   ]
  },
  {
   "cell_type": "code",
   "execution_count": 58,
   "id": "80b800fa",
   "metadata": {},
   "outputs": [
    {
     "data": {
      "text/plain": [
       "<qiskit.circuit.instructionset.InstructionSet at 0x2707f8d48e0>"
      ]
     },
     "execution_count": 58,
     "metadata": {},
     "output_type": "execute_result"
    }
   ],
   "source": [
    "#creating a half adder quantum circuit\n",
    "#using CNOT(Controlled NOT in Quantum or XOR)\n",
    "#create circuit with 4 qubits and 2 classical bits\n",
    "qc=QuantumCircuit(4,2)\n",
    "#since a qubit is initialized to 0 in its start state we flip it using .x() which is a quantum NOT gate\n",
    "qc.x([0,1])\n",
    "qc.cx(0,2)\n",
    "qc.cx(1,2)\n",
    "qc.ccx(0,1,3)"
   ]
  },
  {
   "cell_type": "code",
   "execution_count": 59,
   "id": "14fef621",
   "metadata": {},
   "outputs": [
    {
     "data": {
      "text/html": [
       "<pre style=\"word-wrap: normal;white-space: pre;background: #fff0;line-height: 1.1;font-family: &quot;Courier New&quot;,Courier,monospace\">     ┌───┐                     \n",
       "q_0: ┤ X ├──■─────────■────────\n",
       "     ├───┤  │         │        \n",
       "q_1: ┤ X ├──┼────■────■────────\n",
       "     └───┘┌─┴─┐┌─┴─┐  │  ┌─┐   \n",
       "q_2: ─────┤ X ├┤ X ├──┼──┤M├───\n",
       "          └───┘└───┘┌─┴─┐└╥┘┌─┐\n",
       "q_3: ───────────────┤ X ├─╫─┤M├\n",
       "                    └───┘ ║ └╥┘\n",
       "c: 2/═════════════════════╩══╩═\n",
       "                          0  1 </pre>"
      ],
      "text/plain": [
       "     ┌───┐                     \n",
       "q_0: ┤ X ├──■─────────■────────\n",
       "     ├───┤  │         │        \n",
       "q_1: ┤ X ├──┼────■────■────────\n",
       "     └───┘┌─┴─┐┌─┴─┐  │  ┌─┐   \n",
       "q_2: ─────┤ X ├┤ X ├──┼──┤M├───\n",
       "          └───┘└───┘┌─┴─┐└╥┘┌─┐\n",
       "q_3: ───────────────┤ X ├─╫─┤M├\n",
       "                    └───┘ ║ └╥┘\n",
       "c: 2/═════════════════════╩══╩═\n",
       "                          0  1 "
      ]
     },
     "execution_count": 59,
     "metadata": {},
     "output_type": "execute_result"
    }
   ],
   "source": [
    "qc.measure([2,3],[0,1])\n",
    "qc.draw()"
   ]
  },
  {
   "cell_type": "code",
   "execution_count": 60,
   "id": "d5393420",
   "metadata": {},
   "outputs": [
    {
     "data": {
      "text/plain": [
       "{'10': 1024}"
      ]
     },
     "execution_count": 60,
     "metadata": {},
     "output_type": "execute_result"
    }
   ],
   "source": [
    "job=sim.run(qc)\n",
    "result=job.result()\n",
    "result.get_counts()"
   ]
  },
  {
   "cell_type": "code",
   "execution_count": 112,
   "id": "29e6095e",
   "metadata": {},
   "outputs": [],
   "source": [
    "qr = QuantumRegister(2)\n",
    "cr = ClassicalRegister(2)"
   ]
  },
  {
   "cell_type": "code",
   "execution_count": 113,
   "id": "a3ef3cae",
   "metadata": {},
   "outputs": [],
   "source": [
    "circuit = QuantumCircuit(qr,cr)"
   ]
  },
  {
   "cell_type": "code",
   "execution_count": 114,
   "id": "00d270bf",
   "metadata": {},
   "outputs": [],
   "source": [
    "%matplotlib inline"
   ]
  },
  {
   "cell_type": "code",
   "execution_count": 116,
   "id": "94713258",
   "metadata": {},
   "outputs": [
    {
     "data": {
      "text/html": [
       "<pre style=\"word-wrap: normal;white-space: pre;background: #fff0;line-height: 1.1;font-family: &quot;Courier New&quot;,Courier,monospace\">      ┌───┐\n",
       "q4_0: ┤ H ├\n",
       "      └───┘\n",
       "q4_1: ─────\n",
       "           \n",
       "c4: 2/═════\n",
       "           </pre>"
      ],
      "text/plain": [
       "      ┌───┐\n",
       "q4_0: ┤ H ├\n",
       "      └───┘\n",
       "q4_1: ─────\n",
       "           \n",
       "c4: 2/═════\n",
       "           "
      ]
     },
     "execution_count": 116,
     "metadata": {},
     "output_type": "execute_result"
    }
   ],
   "source": [
    "circuit.h(qr[0])\n",
    "circuit.draw()"
   ]
  },
  {
   "cell_type": "code",
   "execution_count": 96,
   "id": "5dc21e9a",
   "metadata": {},
   "outputs": [
    {
     "data": {
      "text/plain": [
       "<qiskit.circuit.instructionset.InstructionSet at 0x2ab7e22bcd0>"
      ]
     },
     "execution_count": 96,
     "metadata": {},
     "output_type": "execute_result"
    }
   ],
   "source": [
    "from qiskit import *\n",
    "qfa=QuantumCircuit(5,4)\n",
    "qfa.x([0,1,2])\n",
    "qfa.cx([0,1,2],[3,3,3])\n",
    "qfa.ccx(0,2,4)\n",
    "qfa.ccx(0,1,4)\n",
    "qfa.ccx(1,2,4)"
   ]
  },
  {
   "cell_type": "code",
   "execution_count": 97,
   "id": "090838ed",
   "metadata": {},
   "outputs": [
    {
     "data": {
      "text/html": [
       "<pre style=\"word-wrap: normal;white-space: pre;background: #fff0;line-height: 1.1;font-family: &quot;Courier New&quot;,Courier,monospace\">     ┌───┐                                    \n",
       "q_0: ┤ X ├──■──────────────■───────■──────────\n",
       "     ├───┤  │              │       │          \n",
       "q_1: ┤ X ├──┼────■─────────┼───────■────■─────\n",
       "     ├───┤  │    │         │       │    │     \n",
       "q_2: ┤ X ├──┼────┼────■────■───────┼────■─────\n",
       "     └───┘┌─┴─┐┌─┴─┐┌─┴─┐  │  ┌─┐  │    │     \n",
       "q_3: ─────┤ X ├┤ X ├┤ X ├──┼──┤M├──┼────┼─────\n",
       "          └───┘└───┘└───┘┌─┴─┐└╥┘┌─┴─┐┌─┴─┐┌─┐\n",
       "q_4: ────────────────────┤ X ├─╫─┤ X ├┤ X ├┤M├\n",
       "                         └───┘ ║ └───┘└───┘└╥┘\n",
       "c: 4/══════════════════════════╩════════════╩═\n",
       "                               0            1 </pre>"
      ],
      "text/plain": [
       "     ┌───┐                                    \n",
       "q_0: ┤ X ├──■──────────────■───────■──────────\n",
       "     ├───┤  │              │       │          \n",
       "q_1: ┤ X ├──┼────■─────────┼───────■────■─────\n",
       "     ├───┤  │    │         │       │    │     \n",
       "q_2: ┤ X ├──┼────┼────■────■───────┼────■─────\n",
       "     └───┘┌─┴─┐┌─┴─┐┌─┴─┐  │  ┌─┐  │    │     \n",
       "q_3: ─────┤ X ├┤ X ├┤ X ├──┼──┤M├──┼────┼─────\n",
       "          └───┘└───┘└───┘┌─┴─┐└╥┘┌─┴─┐┌─┴─┐┌─┐\n",
       "q_4: ────────────────────┤ X ├─╫─┤ X ├┤ X ├┤M├\n",
       "                         └───┘ ║ └───┘└───┘└╥┘\n",
       "c: 4/══════════════════════════╩════════════╩═\n",
       "                               0            1 "
      ]
     },
     "execution_count": 97,
     "metadata": {},
     "output_type": "execute_result"
    }
   ],
   "source": [
    "qfa.measure([3,4],[0,1])\n",
    "qfa.draw()"
   ]
  },
  {
   "cell_type": "code",
   "execution_count": 98,
   "id": "1c6e1f0a",
   "metadata": {},
   "outputs": [
    {
     "data": {
      "text/plain": [
       "{'0011': 1024}"
      ]
     },
     "execution_count": 98,
     "metadata": {},
     "output_type": "execute_result"
    }
   ],
   "source": [
    "from qiskit.providers.aer import AerSimulator\n",
    "sim = AerSimulator()\n",
    "job=sim.run(qfa)\n",
    "result=job.result()\n",
    "result.get_counts()"
   ]
  },
  {
   "cell_type": "code",
   "execution_count": null,
   "id": "e2d8ae6a",
   "metadata": {},
   "outputs": [],
   "source": []
  }
 ],
 "metadata": {
  "kernelspec": {
   "display_name": "Python 3 (ipykernel)",
   "language": "python",
   "name": "python3"
  },
  "language_info": {
   "codemirror_mode": {
    "name": "ipython",
    "version": 3
   },
   "file_extension": ".py",
   "mimetype": "text/x-python",
   "name": "python",
   "nbconvert_exporter": "python",
   "pygments_lexer": "ipython3",
   "version": "3.9.12"
  }
 },
 "nbformat": 4,
 "nbformat_minor": 5
}
